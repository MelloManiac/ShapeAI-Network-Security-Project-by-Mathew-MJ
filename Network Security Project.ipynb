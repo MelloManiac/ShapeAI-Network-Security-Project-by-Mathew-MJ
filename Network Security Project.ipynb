{
  "nbformat": 4,
  "nbformat_minor": 0,
  "metadata": {
    "colab": {
      "name": "Untitled0.ipynb",
      "provenance": [],
      "collapsed_sections": []
    },
    "kernelspec": {
      "name": "python3",
      "display_name": "Python 3"
    },
    "language_info": {
      "name": "python"
    }
  },
  "cells": [
    {
      "cell_type": "code",
      "metadata": {
        "colab": {
          "base_uri": "https://localhost:8080/"
        },
        "id": "hy9yB6uB_T9s",
        "outputId": "5e9958e4-4d0f-45dc-c17f-c3840356a540"
      },
      "source": [
        "#Programme to Generate Hash of a string data using MD5 Algorithm \n",
        "import hashlib\n",
        "\n",
        "inp = input(\"Enter The Data to be Hashed (In MD5 Algorithm) :\")\n",
        "hsh = hashlib.md5(inp.encode())\n",
        "\n",
        "print(\"------------------------------\")\n",
        "print(\"The Hashed Data (MD5 Algorithm) in Hexa-Decimal Format is :\" ,hsh.hexdigest())\n",
        "print(\"The Hashed Data (MD5 Algorithm) in Byte Format is :\" ,hsh.digest())\n",
        "print(\"------------------------------\")"
      ],
      "execution_count": 30,
      "outputs": [
        {
          "output_type": "stream",
          "text": [
            "Enter The Data to be Hashed (In MD5 Algorithm) :mello\n",
            "------------------------------\n",
            "The Hashed Data (MD5 Algorithm) in Hexa-Decimal Format is : 82d0ec7f8878e83d4c80669b708ad286\n",
            "The Hashed Data (MD5 Algorithm) in Byte Format is : b'\\x82\\xd0\\xec\\x7f\\x88x\\xe8=L\\x80f\\x9bp\\x8a\\xd2\\x86'\n",
            "------------------------------\n"
          ],
          "name": "stdout"
        }
      ]
    },
    {
      "cell_type": "code",
      "metadata": {
        "colab": {
          "base_uri": "https://localhost:8080/"
        },
        "id": "6Tbu573MElJh",
        "outputId": "132ac611-ea0f-49b3-b607-02efb363335b"
      },
      "source": [
        "#Programme to Generate Hash of a string data using 3 Different Algorithms\n",
        "import hashlib\n",
        "\n",
        "inp = input(\"Enter The Data to be Hashed :\")\n",
        "hsh_1 = hashlib.md5(inp.encode())\n",
        "hsh_2 = hashlib.blake2s(inp.encode())\n",
        "hsh_3 = hashlib.sha1(inp.encode())\n",
        "\n",
        "print(\"------------------------------\")\n",
        "print(\"The Hashed Data (MD5 Algorithm) in Hexa-Decimal Format is :\" ,hsh_1.hexdigest())\n",
        "print(\"The Hashed Data (MD5 Algorithm) in Byte Format is :\" ,hsh_1.digest())\n",
        "print(\"------------------------------\")\n",
        "print(\"The Hashed Data (BLAKE2s Algorithm) in Hexa-Decimal Format is :\" ,hsh_2.hexdigest())\n",
        "print(\"The Hashed Data (BLAKE2s Algorithm) in Byte Format is :\" ,hsh_2.digest())\n",
        "print(\"------------------------------\")\n",
        "print(\"The Hashed Data (SHA-1 Algorithm) in Hexa-Decimal Format is :\" ,hsh_3.hexdigest())\n",
        "print(\"The Hashed Data (SHA-1 Algorithm) in Byte Format is :\" ,hsh_3.digest())\n",
        "print(\"------------------------------\")\n"
      ],
      "execution_count": 31,
      "outputs": [
        {
          "output_type": "stream",
          "text": [
            "Enter The Data to be Hashed :mello\n",
            "------------------------------\n",
            "The Hashed Data (MD5 Algorithm) in Hexa-Decimal Format is : 82d0ec7f8878e83d4c80669b708ad286\n",
            "The Hashed Data (MD5 Algorithm) in Byte Format is : b'\\x82\\xd0\\xec\\x7f\\x88x\\xe8=L\\x80f\\x9bp\\x8a\\xd2\\x86'\n",
            "------------------------------\n",
            "The Hashed Data (BLAKE2s Algorithm) in Hexa-Decimal Format is : 32023cae689593b5777ff8c05b2f8113bf6558cfee92f34b1215306ec0aa3dfe\n",
            "The Hashed Data (BLAKE2s Algorithm) in Byte Format is : b'2\\x02<\\xaeh\\x95\\x93\\xb5w\\x7f\\xf8\\xc0[/\\x81\\x13\\xbfeX\\xcf\\xee\\x92\\xf3K\\x12\\x150n\\xc0\\xaa=\\xfe'\n",
            "------------------------------\n",
            "The Hashed Data (SHA-1 Algorithm) in Hexa-Decimal Format is : 30c533a5187b2c596fef0733d094f7c5ab3b9d71\n",
            "The Hashed Data (SHA-1 Algorithm) in Byte Format is : b'0\\xc53\\xa5\\x18{,Yo\\xef\\x073\\xd0\\x94\\xf7\\xc5\\xab;\\x9dq'\n",
            "------------------------------\n"
          ],
          "name": "stdout"
        }
      ]
    },
    {
      "cell_type": "code",
      "metadata": {
        "colab": {
          "base_uri": "https://localhost:8080/"
        },
        "id": "hXB7OLHcl3Ds",
        "outputId": "570118d0-b4fc-4b77-8098-2957ebf7badb"
      },
      "source": [
        "#Programme to Add Salting and Iteration to Hashes \n",
        "import hashlib\n",
        "\n",
        "inp = input(\"Enter The Data to be Hashed (In SHA-512 Algorithm) :\")\n",
        "hsh = hashlib.sha512(inp.encode())\n",
        "salt = hashlib.sha512(inp[0].encode())# The Character at Index:0 of the Input is added as salt\n",
        "\n",
        "print(\"------------------------------\")\n",
        "print(\"The Hashed Data (SHA-512 Algorithm) in Hexa-Decimal Format is :\" ,hsh.hexdigest())\n",
        "print(\"The Hashed Data (SHA-512 Algorithm) in Byte Format is :\" ,hsh.digest())\n",
        "print(\"------------------------------\")\n",
        "print(\"The Salted Data (SHA-512 Algorithm) in Hexa-Decimal Format is :\" ,salt.hexdigest()+hsh.hexdigest())\n",
        "print(\"The Salted Data (SHA-512 Algorithm) in Byte Format is :\" ,salt.digest()+hsh.digest())\n",
        "print(\"------------------------------\")\n",
        "\n",
        "n = int(input(\"Enter the No of times The Data is to be Iterated :\"))\n",
        "for i in range(1,n+1):\n",
        "  it_hsh = hashlib.sha512(hsh.hexdigest().encode())\n",
        "  print(\"------------------------------\")\n",
        "  print(\"Data Iterated \" + str(i) + \" Times in Hexadecimal Format is : \" ,it_hsh.hexdigest())\n",
        "  print(\"Data Iterated \" + str(i) + \" Times in Byte Format is : \" ,it_hsh.digest())\n",
        "  hsh = hashlib.sha512(it_hsh.hexdigest().encode())\n",
        "print(\"------------------------------\")"
      ],
      "execution_count": 33,
      "outputs": [
        {
          "output_type": "stream",
          "text": [
            "Enter The Data to be Hashed (In SHA-512 Algorithm) :mello\n",
            "------------------------------\n",
            "The Hashed Data (SHA-512 Algorithm) in Hexa-Decimal Format is : 1a73bf5c34a240c2d7cdbcefac8dcc233c5fdc1ae19bd6e7edffcc7cee0f3822b77e8645a4532986cc1174786ef491ae7d1545ab2c8ea6cebe8e0ed544a6a03d\n",
            "The Hashed Data (SHA-512 Algorithm) in Byte Format is : b'\\x1as\\xbf\\\\4\\xa2@\\xc2\\xd7\\xcd\\xbc\\xef\\xac\\x8d\\xcc#<_\\xdc\\x1a\\xe1\\x9b\\xd6\\xe7\\xed\\xff\\xcc|\\xee\\x0f8\"\\xb7~\\x86E\\xa4S)\\x86\\xcc\\x11txn\\xf4\\x91\\xae}\\x15E\\xab,\\x8e\\xa6\\xce\\xbe\\x8e\\x0e\\xd5D\\xa6\\xa0='\n",
            "------------------------------\n",
            "The Salted Data (SHA-512 Algorithm) in Hexa-Decimal Format is : f14aae6a0e050b74e4b7b9a5b2ef1a60ceccbbca39b132ae3e8bf88d3a946c6d8687f3266fd2b626419d8b67dcf1d8d7c0fe72d4919d9bd05efbd37070cfb41a1a73bf5c34a240c2d7cdbcefac8dcc233c5fdc1ae19bd6e7edffcc7cee0f3822b77e8645a4532986cc1174786ef491ae7d1545ab2c8ea6cebe8e0ed544a6a03d\n",
            "The Salted Data (SHA-512 Algorithm) in Byte Format is : b'\\xf1J\\xaej\\x0e\\x05\\x0bt\\xe4\\xb7\\xb9\\xa5\\xb2\\xef\\x1a`\\xce\\xcc\\xbb\\xca9\\xb12\\xae>\\x8b\\xf8\\x8d:\\x94lm\\x86\\x87\\xf3&o\\xd2\\xb6&A\\x9d\\x8bg\\xdc\\xf1\\xd8\\xd7\\xc0\\xfer\\xd4\\x91\\x9d\\x9b\\xd0^\\xfb\\xd3pp\\xcf\\xb4\\x1a\\x1as\\xbf\\\\4\\xa2@\\xc2\\xd7\\xcd\\xbc\\xef\\xac\\x8d\\xcc#<_\\xdc\\x1a\\xe1\\x9b\\xd6\\xe7\\xed\\xff\\xcc|\\xee\\x0f8\"\\xb7~\\x86E\\xa4S)\\x86\\xcc\\x11txn\\xf4\\x91\\xae}\\x15E\\xab,\\x8e\\xa6\\xce\\xbe\\x8e\\x0e\\xd5D\\xa6\\xa0='\n",
            "------------------------------\n",
            "Enter the No of times The Data is to be Iterated :3\n",
            "------------------------------\n",
            "Data Iterated 1 Times in Hexadecimal Format is :  fa74ff8545c7b5bb998691246d6930ed2efe8ee70991a3acc0b97bc319d8d108239cfab9f8c9298aceab6aa355a240cb2d183e8a3963e412fe089e95cdea6a41\n",
            "Data Iterated 1 Times in Byte Format is :  b'\\xfat\\xff\\x85E\\xc7\\xb5\\xbb\\x99\\x86\\x91$mi0\\xed.\\xfe\\x8e\\xe7\\t\\x91\\xa3\\xac\\xc0\\xb9{\\xc3\\x19\\xd8\\xd1\\x08#\\x9c\\xfa\\xb9\\xf8\\xc9)\\x8a\\xce\\xabj\\xa3U\\xa2@\\xcb-\\x18>\\x8a9c\\xe4\\x12\\xfe\\x08\\x9e\\x95\\xcd\\xeajA'\n",
            "------------------------------\n",
            "Data Iterated 2 Times in Hexadecimal Format is :  2928f010feb270ba947ad3649c52b8e0900c51da445bfeadcd6bf1201ee724591c807cf2c377d2ec0e106d82e5bba0241555bdae49c211daa17130e9d6f2b543\n",
            "Data Iterated 2 Times in Byte Format is :  b')(\\xf0\\x10\\xfe\\xb2p\\xba\\x94z\\xd3d\\x9cR\\xb8\\xe0\\x90\\x0cQ\\xdaD[\\xfe\\xad\\xcdk\\xf1 \\x1e\\xe7$Y\\x1c\\x80|\\xf2\\xc3w\\xd2\\xec\\x0e\\x10m\\x82\\xe5\\xbb\\xa0$\\x15U\\xbd\\xaeI\\xc2\\x11\\xda\\xa1q0\\xe9\\xd6\\xf2\\xb5C'\n",
            "------------------------------\n",
            "Data Iterated 3 Times in Hexadecimal Format is :  190ef6d1743473b54d0b8fe977355ae1212b742542f9418787860b9c333d883b5274200a6ca72f112ff0d9b46005cc59e4734b540f6653f5e0c5cef3fa36ba80\n",
            "Data Iterated 3 Times in Byte Format is :  b'\\x19\\x0e\\xf6\\xd1t4s\\xb5M\\x0b\\x8f\\xe9w5Z\\xe1!+t%B\\xf9A\\x87\\x87\\x86\\x0b\\x9c3=\\x88;Rt \\nl\\xa7/\\x11/\\xf0\\xd9\\xb4`\\x05\\xccY\\xe4sKT\\x0ffS\\xf5\\xe0\\xc5\\xce\\xf3\\xfa6\\xba\\x80'\n",
            "------------------------------\n"
          ],
          "name": "stdout"
        }
      ]
    }
  ]
}